{
 "cells": [
  {
   "cell_type": "code",
   "execution_count": 0,
   "metadata": {
    "application/vnd.databricks.v1+cell": {
     "cellMetadata": {
      "byteLimit": 2048000,
      "rowLimit": 10000
     },
     "inputWidgets": {},
     "nuid": "2eb5f96c-f2dc-415f-a261-52f711e80502",
     "showTitle": false,
     "tableResultSettingsMap": {},
     "title": ""
    }
   },
   "outputs": [
    {
     "output_type": "display_data",
     "data": {
      "text/html": [
       "<style scoped>\n",
       "  .table-result-container {\n",
       "    max-height: 300px;\n",
       "    overflow: auto;\n",
       "  }\n",
       "  table, th, td {\n",
       "    border: 1px solid black;\n",
       "    border-collapse: collapse;\n",
       "  }\n",
       "  th, td {\n",
       "    padding: 5px;\n",
       "  }\n",
       "  th {\n",
       "    text-align: left;\n",
       "  }\n",
       "</style><div class='table-result-container'><table class='table-result'><thead style='background-color: white'><tr><th>col_id</th><th>col_name</th><th>col_exp</th><th>col_gen</th><th>col_dob</th><th>col_company</th><th>col_desig</th><th>col_doj</th><th>col_skills</th><th>col_previous_expected_salary</th></tr></thead><tbody><tr><td>101</td><td>'Agastya'</td><td>1</td><td>M</td><td>1987-01-22</td><td>Infosys</td><td>Developer</td><td>2015-01-21</td><td>'Hadoop,Hadoop,PySpark,Azure'</td><td>'1950000,1600000'</td></tr><tr><td>102</td><td>'Acyuta'</td><td>2</td><td>F</td><td>1987-03-29</td><td>TCS</td><td>Team Lead</td><td>2016-01-21</td><td>'C,C++,Java'</td><td>'1150000,1500000'</td></tr><tr><td>103</td><td>'Anuvrata'</td><td>1</td><td>M</td><td>1987-01-22</td><td>Infosys</td><td>Developer</td><td>2017-01-21</td><td>'Java,Python,Hadoop'</td><td>'1250000,1300000'</td></tr><tr><td>null</td><td>'Bhavika'</td><td>6</td><td>F</td><td>1987-01-22</td><td>Infosys</td><td>Team lead</td><td>2015-01-21</td><td>'Hadoop,PySpark,Kafka'</td><td>null</td></tr><tr><td>105</td><td>'Chitragandha'</td><td>null</td><td>M</td><td>1987-01-22</td><td>CTS</td><td>Developer</td><td>null</td><td>'C,C++,Java'</td><td>'1200000,1400000'</td></tr><tr><td>106</td><td>'Hritika'</td><td>9</td><td>F</td><td>1987-01-22</td><td>Cisco</td><td>Developer</td><td>2016-01-21</td><td>'C,C++,Java'</td><td>'950000,1300000'</td></tr><tr><td>107</td><td>'Jigyasa'</td><td>12</td><td>M</td><td>1987-01-22</td><td>Infosys</td><td>Team Lead</td><td>2005-01-21</td><td>'Hadoop,PySpark,Kafka'</td><td>'200000,2100000'</td></tr><tr><td>108</td><td>'Kaveri'</td><td>4</td><td>F</td><td>1987-01-22</td><td>cisco</td><td>R&D Engineer</td><td>2015-01-21</td><td>'C,PySpark,Azure,AWS'</td><td>'3050000,2500000'</td></tr><tr><td>109</td><td>null</td><td>8</td><td>M</td><td>1987-01-22</td><td>null</td><td>Developer</td><td>2008-01-21</td><td>'C,C++,Java'</td><td>'1050000,1100000'</td></tr><tr><td>110</td><td>'Vin'</td><td>null</td><td>T</td><td>1987-01-22</td><td>CTS</td><td>Team Lead</td><td>2020-01-21</td><td>'Hadoop,PySpark,Kafka,Kafka'</td><td>'1550000,1400000'</td></tr></tbody></table></div>"
      ]
     },
     "metadata": {
      "application/vnd.databricks.v1+output": {
       "addedWidgets": {},
       "aggData": [],
       "aggError": "",
       "aggOverflow": false,
       "aggSchema": [],
       "aggSeriesLimitReached": false,
       "aggType": "",
       "arguments": {},
       "columnCustomDisplayInfos": {},
       "data": [
        [
         101,
         "'Agastya'",
         1,
         "M",
         "1987-01-22",
         "Infosys",
         "Developer",
         "2015-01-21",
         "'Hadoop,Hadoop,PySpark,Azure'",
         "'1950000,1600000'"
        ],
        [
         102,
         "'Acyuta'",
         2,
         "F",
         "1987-03-29",
         "TCS",
         "Team Lead",
         "2016-01-21",
         "'C,C++,Java'",
         "'1150000,1500000'"
        ],
        [
         103,
         "'Anuvrata'",
         1,
         "M",
         "1987-01-22",
         "Infosys",
         "Developer",
         "2017-01-21",
         "'Java,Python,Hadoop'",
         "'1250000,1300000'"
        ],
        [
         null,
         "'Bhavika'",
         6,
         "F",
         "1987-01-22",
         "Infosys",
         "Team lead",
         "2015-01-21",
         "'Hadoop,PySpark,Kafka'",
         null
        ],
        [
         105,
         "'Chitragandha'",
         null,
         "M",
         "1987-01-22",
         "CTS",
         "Developer",
         null,
         "'C,C++,Java'",
         "'1200000,1400000'"
        ],
        [
         106,
         "'Hritika'",
         9,
         "F",
         "1987-01-22",
         "Cisco",
         "Developer",
         "2016-01-21",
         "'C,C++,Java'",
         "'950000,1300000'"
        ],
        [
         107,
         "'Jigyasa'",
         12,
         "M",
         "1987-01-22",
         "Infosys",
         "Team Lead",
         "2005-01-21",
         "'Hadoop,PySpark,Kafka'",
         "'200000,2100000'"
        ],
        [
         108,
         "'Kaveri'",
         4,
         "F",
         "1987-01-22",
         "cisco",
         "R&D Engineer",
         "2015-01-21",
         "'C,PySpark,Azure,AWS'",
         "'3050000,2500000'"
        ],
        [
         109,
         null,
         8,
         "M",
         "1987-01-22",
         null,
         "Developer",
         "2008-01-21",
         "'C,C++,Java'",
         "'1050000,1100000'"
        ],
        [
         110,
         "'Vin'",
         null,
         "T",
         "1987-01-22",
         "CTS",
         "Team Lead",
         "2020-01-21",
         "'Hadoop,PySpark,Kafka,Kafka'",
         "'1550000,1400000'"
        ]
       ],
       "datasetInfos": [],
       "dbfsResultPath": null,
       "isJsonSchema": true,
       "metadata": {},
       "overflow": false,
       "plotOptions": {
        "customPlotOptions": {},
        "displayType": "table",
        "pivotAggregation": null,
        "pivotColumns": null,
        "xColumns": null,
        "yColumns": null
       },
       "removedWidgets": [],
       "schema": [
        {
         "metadata": "{}",
         "name": "col_id",
         "type": "\"integer\""
        },
        {
         "metadata": "{}",
         "name": "col_name",
         "type": "\"string\""
        },
        {
         "metadata": "{}",
         "name": "col_exp",
         "type": "\"integer\""
        },
        {
         "metadata": "{}",
         "name": "col_gen",
         "type": "\"string\""
        },
        {
         "metadata": "{\"__detected_date_formats\":\"yyyy-M-d\"}",
         "name": "col_dob",
         "type": "\"date\""
        },
        {
         "metadata": "{}",
         "name": "col_company",
         "type": "\"string\""
        },
        {
         "metadata": "{}",
         "name": "col_desig",
         "type": "\"string\""
        },
        {
         "metadata": "{\"__detected_date_formats\":\"d-M-yyyy\"}",
         "name": "col_doj",
         "type": "\"date\""
        },
        {
         "metadata": "{}",
         "name": "col_skills",
         "type": "\"string\""
        },
        {
         "metadata": "{}",
         "name": "col_previous_expected_salary",
         "type": "\"string\""
        }
       ],
       "type": "table"
      }
     },
     "output_type": "display_data"
    }
   ],
   "source": [
    "employee_df = spark.read.csv(path=\"dbfs:/FileStore/jain_university/employee.csv\",\n",
    "                             header=True,\n",
    "                             sep=\"|\",\n",
    "                             inferSchema=True)\n",
    "type(employee_df)\n",
    "employee_df.display()"
   ]
  },
  {
   "cell_type": "code",
   "execution_count": 0,
   "metadata": {
    "application/vnd.databricks.v1+cell": {
     "cellMetadata": {
      "byteLimit": 2048000,
      "rowLimit": 10000
     },
     "inputWidgets": {},
     "nuid": "0ebb7f53-5da4-4b62-b3e3-8953bee6c0ac",
     "showTitle": false,
     "tableResultSettingsMap": {},
     "title": ""
    }
   },
   "outputs": [
    {
     "output_type": "stream",
     "name": "stdout",
     "output_type": "stream",
     "text": [
      "root\n |-- col_id: integer (nullable = true)\n |-- col_name: string (nullable = true)\n |-- col_exp: integer (nullable = true)\n |-- col_gen: string (nullable = true)\n |-- col_dob: date (nullable = true)\n |-- col_company: string (nullable = true)\n |-- col_desig: string (nullable = true)\n |-- col_doj: date (nullable = true)\n |-- col_skills: string (nullable = true)\n |-- col_previous_expected_salary: string (nullable = true)\n\n"
     ]
    }
   ],
   "source": [
    "employee_df.printSchema()"
   ]
  },
  {
   "cell_type": "code",
   "execution_count": 0,
   "metadata": {
    "application/vnd.databricks.v1+cell": {
     "cellMetadata": {
      "byteLimit": 2048000,
      "rowLimit": 10000
     },
     "inputWidgets": {},
     "nuid": "14976f68-2097-414b-9a50-1867f9084284",
     "showTitle": false,
     "tableResultSettingsMap": {},
     "title": ""
    }
   },
   "outputs": [
    {
     "output_type": "display_data",
     "data": {
      "text/html": [
       "<style scoped>\n",
       "  .table-result-container {\n",
       "    max-height: 300px;\n",
       "    overflow: auto;\n",
       "  }\n",
       "  table, th, td {\n",
       "    border: 1px solid black;\n",
       "    border-collapse: collapse;\n",
       "  }\n",
       "  th, td {\n",
       "    padding: 5px;\n",
       "  }\n",
       "  th {\n",
       "    text-align: left;\n",
       "  }\n",
       "</style><div class='table-result-container'><table class='table-result'><thead style='background-color: white'><tr><th>col_id</th><th>col_name</th></tr></thead><tbody><tr><td>101</td><td>'Agastya'</td></tr><tr><td>102</td><td>'Acyuta'</td></tr><tr><td>103</td><td>'Anuvrata'</td></tr><tr><td>null</td><td>'Bhavika'</td></tr><tr><td>105</td><td>'Chitragandha'</td></tr><tr><td>106</td><td>'Hritika'</td></tr><tr><td>107</td><td>'Jigyasa'</td></tr><tr><td>108</td><td>'Kaveri'</td></tr><tr><td>109</td><td>null</td></tr><tr><td>110</td><td>'Vin'</td></tr></tbody></table></div>"
      ]
     },
     "metadata": {
      "application/vnd.databricks.v1+output": {
       "addedWidgets": {},
       "aggData": [],
       "aggError": "",
       "aggOverflow": false,
       "aggSchema": [],
       "aggSeriesLimitReached": false,
       "aggType": "",
       "arguments": {},
       "columnCustomDisplayInfos": {},
       "data": [
        [
         101,
         "'Agastya'"
        ],
        [
         102,
         "'Acyuta'"
        ],
        [
         103,
         "'Anuvrata'"
        ],
        [
         null,
         "'Bhavika'"
        ],
        [
         105,
         "'Chitragandha'"
        ],
        [
         106,
         "'Hritika'"
        ],
        [
         107,
         "'Jigyasa'"
        ],
        [
         108,
         "'Kaveri'"
        ],
        [
         109,
         null
        ],
        [
         110,
         "'Vin'"
        ]
       ],
       "datasetInfos": [],
       "dbfsResultPath": null,
       "isJsonSchema": true,
       "metadata": {},
       "overflow": false,
       "plotOptions": {
        "customPlotOptions": {},
        "displayType": "table",
        "pivotAggregation": null,
        "pivotColumns": null,
        "xColumns": null,
        "yColumns": null
       },
       "removedWidgets": [],
       "schema": [
        {
         "metadata": "{}",
         "name": "col_id",
         "type": "\"integer\""
        },
        {
         "metadata": "{}",
         "name": "col_name",
         "type": "\"string\""
        }
       ],
       "type": "table"
      }
     },
     "output_type": "display_data"
    }
   ],
   "source": [
    "df_01 = employee_df.select(\"col_id\",\"col_name\")\n",
    "df_01.display()"
   ]
  },
  {
   "cell_type": "code",
   "execution_count": 0,
   "metadata": {
    "application/vnd.databricks.v1+cell": {
     "cellMetadata": {
      "byteLimit": 2048000,
      "rowLimit": 10000
     },
     "inputWidgets": {},
     "nuid": "cd7de320-4465-478c-9fbf-f9272ba4ecc1",
     "showTitle": false,
     "tableResultSettingsMap": {},
     "title": ""
    }
   },
   "outputs": [
    {
     "output_type": "display_data",
     "data": {
      "text/html": [
       "<style scoped>\n",
       "  .table-result-container {\n",
       "    max-height: 300px;\n",
       "    overflow: auto;\n",
       "  }\n",
       "  table, th, td {\n",
       "    border: 1px solid black;\n",
       "    border-collapse: collapse;\n",
       "  }\n",
       "  th, td {\n",
       "    padding: 5px;\n",
       "  }\n",
       "  th {\n",
       "    text-align: left;\n",
       "  }\n",
       "</style><div class='table-result-container'><table class='table-result'><thead style='background-color: white'><tr><th>col_id</th><th>col_name</th></tr></thead><tbody><tr><td>101</td><td>'Agastya'</td></tr><tr><td>102</td><td>'Acyuta'</td></tr><tr><td>103</td><td>'Anuvrata'</td></tr><tr><td>null</td><td>'Bhavika'</td></tr><tr><td>105</td><td>'Chitragandha'</td></tr><tr><td>106</td><td>'Hritika'</td></tr><tr><td>107</td><td>'Jigyasa'</td></tr><tr><td>108</td><td>'Kaveri'</td></tr><tr><td>109</td><td>null</td></tr><tr><td>110</td><td>'Vin'</td></tr></tbody></table></div>"
      ]
     },
     "metadata": {
      "application/vnd.databricks.v1+output": {
       "addedWidgets": {},
       "aggData": [],
       "aggError": "",
       "aggOverflow": false,
       "aggSchema": [],
       "aggSeriesLimitReached": false,
       "aggType": "",
       "arguments": {},
       "columnCustomDisplayInfos": {},
       "data": [
        [
         101,
         "'Agastya'"
        ],
        [
         102,
         "'Acyuta'"
        ],
        [
         103,
         "'Anuvrata'"
        ],
        [
         null,
         "'Bhavika'"
        ],
        [
         105,
         "'Chitragandha'"
        ],
        [
         106,
         "'Hritika'"
        ],
        [
         107,
         "'Jigyasa'"
        ],
        [
         108,
         "'Kaveri'"
        ],
        [
         109,
         null
        ],
        [
         110,
         "'Vin'"
        ]
       ],
       "datasetInfos": [],
       "dbfsResultPath": null,
       "isJsonSchema": true,
       "metadata": {},
       "overflow": false,
       "plotOptions": {
        "customPlotOptions": {},
        "displayType": "table",
        "pivotAggregation": null,
        "pivotColumns": null,
        "xColumns": null,
        "yColumns": null
       },
       "removedWidgets": [],
       "schema": [
        {
         "metadata": "{}",
         "name": "col_id",
         "type": "\"integer\""
        },
        {
         "metadata": "{}",
         "name": "col_name",
         "type": "\"string\""
        }
       ],
       "type": "table"
      }
     },
     "output_type": "display_data"
    }
   ],
   "source": [
    "employee_df.select(\"col_id\",\"col_name\").display()"
   ]
  },
  {
   "cell_type": "code",
   "execution_count": 0,
   "metadata": {
    "application/vnd.databricks.v1+cell": {
     "cellMetadata": {
      "byteLimit": 2048000,
      "rowLimit": 10000
     },
     "inputWidgets": {},
     "nuid": "5525c1d0-5835-4c8c-82d5-f83e9f119ffb",
     "showTitle": false,
     "tableResultSettingsMap": {},
     "title": ""
    }
   },
   "outputs": [
    {
     "output_type": "display_data",
     "data": {
      "text/html": [
       "<style scoped>\n",
       "  .table-result-container {\n",
       "    max-height: 300px;\n",
       "    overflow: auto;\n",
       "  }\n",
       "  table, th, td {\n",
       "    border: 1px solid black;\n",
       "    border-collapse: collapse;\n",
       "  }\n",
       "  th, td {\n",
       "    padding: 5px;\n",
       "  }\n",
       "  th {\n",
       "    text-align: left;\n",
       "  }\n",
       "</style><div class='table-result-container'><table class='table-result'><thead style='background-color: white'><tr><th>col_id</th><th>name</th></tr></thead><tbody><tr><td>101</td><td>'Agastya'</td></tr><tr><td>102</td><td>'Acyuta'</td></tr><tr><td>103</td><td>'Anuvrata'</td></tr><tr><td>null</td><td>'Bhavika'</td></tr><tr><td>105</td><td>'Chitragandha'</td></tr><tr><td>106</td><td>'Hritika'</td></tr><tr><td>107</td><td>'Jigyasa'</td></tr><tr><td>108</td><td>'Kaveri'</td></tr><tr><td>109</td><td>null</td></tr><tr><td>110</td><td>'Vin'</td></tr></tbody></table></div>"
      ]
     },
     "metadata": {
      "application/vnd.databricks.v1+output": {
       "addedWidgets": {},
       "aggData": [],
       "aggError": "",
       "aggOverflow": false,
       "aggSchema": [],
       "aggSeriesLimitReached": false,
       "aggType": "",
       "arguments": {},
       "columnCustomDisplayInfos": {},
       "data": [
        [
         101,
         "'Agastya'"
        ],
        [
         102,
         "'Acyuta'"
        ],
        [
         103,
         "'Anuvrata'"
        ],
        [
         null,
         "'Bhavika'"
        ],
        [
         105,
         "'Chitragandha'"
        ],
        [
         106,
         "'Hritika'"
        ],
        [
         107,
         "'Jigyasa'"
        ],
        [
         108,
         "'Kaveri'"
        ],
        [
         109,
         null
        ],
        [
         110,
         "'Vin'"
        ]
       ],
       "datasetInfos": [],
       "dbfsResultPath": null,
       "isJsonSchema": true,
       "metadata": {},
       "overflow": false,
       "plotOptions": {
        "customPlotOptions": {},
        "displayType": "table",
        "pivotAggregation": null,
        "pivotColumns": null,
        "xColumns": null,
        "yColumns": null
       },
       "removedWidgets": [],
       "schema": [
        {
         "metadata": "{}",
         "name": "col_id",
         "type": "\"integer\""
        },
        {
         "metadata": "{}",
         "name": "name",
         "type": "\"string\""
        }
       ],
       "type": "table"
      }
     },
     "output_type": "display_data"
    }
   ],
   "source": [
    "from pyspark.sql.functions import col\n",
    "employee_df.select(col(\"col_id\"),\n",
    "                   col(\"col_name\").alias(\"name\")).display()"
   ]
  },
  {
   "cell_type": "code",
   "execution_count": 0,
   "metadata": {
    "application/vnd.databricks.v1+cell": {
     "cellMetadata": {
      "byteLimit": 2048000,
      "rowLimit": 10000
     },
     "inputWidgets": {},
     "nuid": "51811ae2-4ec5-425e-b5bd-f33dfee6cc41",
     "showTitle": false,
     "tableResultSettingsMap": {},
     "title": ""
    }
   },
   "outputs": [
    {
     "output_type": "display_data",
     "data": {
      "text/html": [
       "<style scoped>\n",
       "  .table-result-container {\n",
       "    max-height: 300px;\n",
       "    overflow: auto;\n",
       "  }\n",
       "  table, th, td {\n",
       "    border: 1px solid black;\n",
       "    border-collapse: collapse;\n",
       "  }\n",
       "  th, td {\n",
       "    padding: 5px;\n",
       "  }\n",
       "  th {\n",
       "    text-align: left;\n",
       "  }\n",
       "</style><div class='table-result-container'><table class='table-result'><thead style='background-color: white'><tr><th>col_id</th><th>col_name</th><th>col_exp</th><th>col_gen</th><th>col_dob</th><th>col_company</th><th>col_desig</th><th>col_doj</th><th>col_skills</th><th>col_previous_expected_salary</th></tr></thead><tbody><tr><td>101</td><td>'Agastya'</td><td>1</td><td>M</td><td>1987-01-22</td><td>Infosys</td><td>Developer</td><td>2015-01-21</td><td>'Hadoop,Hadoop,PySpark,Azure'</td><td>'1950000,1600000'</td></tr><tr><td>102</td><td>'Acyuta'</td><td>2</td><td>F</td><td>1987-03-29</td><td>TCS</td><td>Team Lead</td><td>2016-01-21</td><td>'C,C++,Java'</td><td>'1150000,1500000'</td></tr><tr><td>103</td><td>'Anuvrata'</td><td>1</td><td>M</td><td>1987-01-22</td><td>Infosys</td><td>Developer</td><td>2017-01-21</td><td>'Java,Python,Hadoop'</td><td>'1250000,1300000'</td></tr><tr><td>null</td><td>'Bhavika'</td><td>6</td><td>F</td><td>1987-01-22</td><td>Infosys</td><td>Team lead</td><td>2015-01-21</td><td>'Hadoop,PySpark,Kafka'</td><td>null</td></tr><tr><td>105</td><td>'Chitragandha'</td><td>null</td><td>M</td><td>1987-01-22</td><td>CTS</td><td>Developer</td><td>null</td><td>'C,C++,Java'</td><td>'1200000,1400000'</td></tr><tr><td>106</td><td>'Hritika'</td><td>9</td><td>F</td><td>1987-01-22</td><td>Cisco</td><td>Developer</td><td>2016-01-21</td><td>'C,C++,Java'</td><td>'950000,1300000'</td></tr><tr><td>107</td><td>'Jigyasa'</td><td>12</td><td>M</td><td>1987-01-22</td><td>Infosys</td><td>Team Lead</td><td>2005-01-21</td><td>'Hadoop,PySpark,Kafka'</td><td>'200000,2100000'</td></tr><tr><td>108</td><td>'Kaveri'</td><td>4</td><td>F</td><td>1987-01-22</td><td>cisco</td><td>R&D Engineer</td><td>2015-01-21</td><td>'C,PySpark,Azure,AWS'</td><td>'3050000,2500000'</td></tr><tr><td>109</td><td>null</td><td>8</td><td>M</td><td>1987-01-22</td><td>null</td><td>Developer</td><td>2008-01-21</td><td>'C,C++,Java'</td><td>'1050000,1100000'</td></tr><tr><td>110</td><td>'Vin'</td><td>null</td><td>T</td><td>1987-01-22</td><td>CTS</td><td>Team Lead</td><td>2020-01-21</td><td>'Hadoop,PySpark,Kafka,Kafka'</td><td>'1550000,1400000'</td></tr></tbody></table></div>"
      ]
     },
     "metadata": {
      "application/vnd.databricks.v1+output": {
       "addedWidgets": {},
       "aggData": [],
       "aggError": "",
       "aggOverflow": false,
       "aggSchema": [],
       "aggSeriesLimitReached": false,
       "aggType": "",
       "arguments": {},
       "columnCustomDisplayInfos": {},
       "data": [
        [
         101,
         "'Agastya'",
         1,
         "M",
         "1987-01-22",
         "Infosys",
         "Developer",
         "2015-01-21",
         "'Hadoop,Hadoop,PySpark,Azure'",
         "'1950000,1600000'"
        ],
        [
         102,
         "'Acyuta'",
         2,
         "F",
         "1987-03-29",
         "TCS",
         "Team Lead",
         "2016-01-21",
         "'C,C++,Java'",
         "'1150000,1500000'"
        ],
        [
         103,
         "'Anuvrata'",
         1,
         "M",
         "1987-01-22",
         "Infosys",
         "Developer",
         "2017-01-21",
         "'Java,Python,Hadoop'",
         "'1250000,1300000'"
        ],
        [
         null,
         "'Bhavika'",
         6,
         "F",
         "1987-01-22",
         "Infosys",
         "Team lead",
         "2015-01-21",
         "'Hadoop,PySpark,Kafka'",
         null
        ],
        [
         105,
         "'Chitragandha'",
         null,
         "M",
         "1987-01-22",
         "CTS",
         "Developer",
         null,
         "'C,C++,Java'",
         "'1200000,1400000'"
        ],
        [
         106,
         "'Hritika'",
         9,
         "F",
         "1987-01-22",
         "Cisco",
         "Developer",
         "2016-01-21",
         "'C,C++,Java'",
         "'950000,1300000'"
        ],
        [
         107,
         "'Jigyasa'",
         12,
         "M",
         "1987-01-22",
         "Infosys",
         "Team Lead",
         "2005-01-21",
         "'Hadoop,PySpark,Kafka'",
         "'200000,2100000'"
        ],
        [
         108,
         "'Kaveri'",
         4,
         "F",
         "1987-01-22",
         "cisco",
         "R&D Engineer",
         "2015-01-21",
         "'C,PySpark,Azure,AWS'",
         "'3050000,2500000'"
        ],
        [
         109,
         null,
         8,
         "M",
         "1987-01-22",
         null,
         "Developer",
         "2008-01-21",
         "'C,C++,Java'",
         "'1050000,1100000'"
        ],
        [
         110,
         "'Vin'",
         null,
         "T",
         "1987-01-22",
         "CTS",
         "Team Lead",
         "2020-01-21",
         "'Hadoop,PySpark,Kafka,Kafka'",
         "'1550000,1400000'"
        ]
       ],
       "datasetInfos": [],
       "dbfsResultPath": null,
       "isJsonSchema": true,
       "metadata": {},
       "overflow": false,
       "plotOptions": {
        "customPlotOptions": {},
        "displayType": "table",
        "pivotAggregation": null,
        "pivotColumns": null,
        "xColumns": null,
        "yColumns": null
       },
       "removedWidgets": [],
       "schema": [
        {
         "metadata": "{}",
         "name": "col_id",
         "type": "\"integer\""
        },
        {
         "metadata": "{}",
         "name": "col_name",
         "type": "\"string\""
        },
        {
         "metadata": "{}",
         "name": "col_exp",
         "type": "\"integer\""
        },
        {
         "metadata": "{}",
         "name": "col_gen",
         "type": "\"string\""
        },
        {
         "metadata": "{\"__detected_date_formats\":\"yyyy-M-d\"}",
         "name": "col_dob",
         "type": "\"date\""
        },
        {
         "metadata": "{}",
         "name": "col_company",
         "type": "\"string\""
        },
        {
         "metadata": "{}",
         "name": "col_desig",
         "type": "\"string\""
        },
        {
         "metadata": "{\"__detected_date_formats\":\"d-M-yyyy\"}",
         "name": "col_doj",
         "type": "\"date\""
        },
        {
         "metadata": "{}",
         "name": "col_skills",
         "type": "\"string\""
        },
        {
         "metadata": "{}",
         "name": "col_previous_expected_salary",
         "type": "\"string\""
        }
       ],
       "type": "table"
      }
     },
     "output_type": "display_data"
    }
   ],
   "source": [
    "\n",
    "employee_df.display()\n"
   ]
  },
  {
   "cell_type": "code",
   "execution_count": 0,
   "metadata": {
    "application/vnd.databricks.v1+cell": {
     "cellMetadata": {
      "byteLimit": 2048000,
      "rowLimit": 10000
     },
     "inputWidgets": {},
     "nuid": "777c7f2f-5b6c-461e-ab37-dc1c72e83d78",
     "showTitle": false,
     "tableResultSettingsMap": {},
     "title": ""
    }
   },
   "outputs": [
    {
     "output_type": "display_data",
     "data": {
      "text/html": [
       "<style scoped>\n",
       "  .table-result-container {\n",
       "    max-height: 300px;\n",
       "    overflow: auto;\n",
       "  }\n",
       "  table, th, td {\n",
       "    border: 1px solid black;\n",
       "    border-collapse: collapse;\n",
       "  }\n",
       "  th, td {\n",
       "    padding: 5px;\n",
       "  }\n",
       "  th {\n",
       "    text-align: left;\n",
       "  }\n",
       "</style><div class='table-result-container'><table class='table-result'><thead style='background-color: white'><tr><th>col_id</th><th>col_name</th><th>col_exp</th><th>col_gen</th><th>col_dob</th><th>col_company</th><th>col_desig</th><th>col_doj</th><th>col_skills</th><th>col_previous_expected_salary</th></tr></thead><tbody><tr><td>101</td><td>'Agastya'</td><td>1</td><td>M</td><td>1987-01-22</td><td>Infosys</td><td>Developer</td><td>2015-01-21</td><td>'Hadoop,Hadoop,PySpark,Azure'</td><td>'1950000,1600000'</td></tr><tr><td>103</td><td>'Anuvrata'</td><td>1</td><td>M</td><td>1987-01-22</td><td>Infosys</td><td>Developer</td><td>2017-01-21</td><td>'Java,Python,Hadoop'</td><td>'1250000,1300000'</td></tr><tr><td>105</td><td>'Chitragandha'</td><td>null</td><td>M</td><td>1987-01-22</td><td>CTS</td><td>Developer</td><td>null</td><td>'C,C++,Java'</td><td>'1200000,1400000'</td></tr><tr><td>106</td><td>'Hritika'</td><td>9</td><td>F</td><td>1987-01-22</td><td>Cisco</td><td>Developer</td><td>2016-01-21</td><td>'C,C++,Java'</td><td>'950000,1300000'</td></tr><tr><td>109</td><td>null</td><td>8</td><td>M</td><td>1987-01-22</td><td>null</td><td>Developer</td><td>2008-01-21</td><td>'C,C++,Java'</td><td>'1050000,1100000'</td></tr></tbody></table></div>"
      ]
     },
     "metadata": {
      "application/vnd.databricks.v1+output": {
       "addedWidgets": {},
       "aggData": [],
       "aggError": "",
       "aggOverflow": false,
       "aggSchema": [],
       "aggSeriesLimitReached": false,
       "aggType": "",
       "arguments": {},
       "columnCustomDisplayInfos": {},
       "data": [
        [
         101,
         "'Agastya'",
         1,
         "M",
         "1987-01-22",
         "Infosys",
         "Developer",
         "2015-01-21",
         "'Hadoop,Hadoop,PySpark,Azure'",
         "'1950000,1600000'"
        ],
        [
         103,
         "'Anuvrata'",
         1,
         "M",
         "1987-01-22",
         "Infosys",
         "Developer",
         "2017-01-21",
         "'Java,Python,Hadoop'",
         "'1250000,1300000'"
        ],
        [
         105,
         "'Chitragandha'",
         null,
         "M",
         "1987-01-22",
         "CTS",
         "Developer",
         null,
         "'C,C++,Java'",
         "'1200000,1400000'"
        ],
        [
         106,
         "'Hritika'",
         9,
         "F",
         "1987-01-22",
         "Cisco",
         "Developer",
         "2016-01-21",
         "'C,C++,Java'",
         "'950000,1300000'"
        ],
        [
         109,
         null,
         8,
         "M",
         "1987-01-22",
         null,
         "Developer",
         "2008-01-21",
         "'C,C++,Java'",
         "'1050000,1100000'"
        ]
       ],
       "datasetInfos": [],
       "dbfsResultPath": null,
       "isJsonSchema": true,
       "metadata": {},
       "overflow": false,
       "plotOptions": {
        "customPlotOptions": {},
        "displayType": "table",
        "pivotAggregation": null,
        "pivotColumns": null,
        "xColumns": null,
        "yColumns": null
       },
       "removedWidgets": [],
       "schema": [
        {
         "metadata": "{}",
         "name": "col_id",
         "type": "\"integer\""
        },
        {
         "metadata": "{}",
         "name": "col_name",
         "type": "\"string\""
        },
        {
         "metadata": "{}",
         "name": "col_exp",
         "type": "\"integer\""
        },
        {
         "metadata": "{}",
         "name": "col_gen",
         "type": "\"string\""
        },
        {
         "metadata": "{\"__detected_date_formats\":\"yyyy-M-d\"}",
         "name": "col_dob",
         "type": "\"date\""
        },
        {
         "metadata": "{}",
         "name": "col_company",
         "type": "\"string\""
        },
        {
         "metadata": "{}",
         "name": "col_desig",
         "type": "\"string\""
        },
        {
         "metadata": "{\"__detected_date_formats\":\"d-M-yyyy\"}",
         "name": "col_doj",
         "type": "\"date\""
        },
        {
         "metadata": "{}",
         "name": "col_skills",
         "type": "\"string\""
        },
        {
         "metadata": "{}",
         "name": "col_previous_expected_salary",
         "type": "\"string\""
        }
       ],
       "type": "table"
      }
     },
     "output_type": "display_data"
    }
   ],
   "source": [
    "employee_df.filter(col(\"col_desig\")=='Developer').display()"
   ]
  },
  {
   "cell_type": "code",
   "execution_count": 0,
   "metadata": {
    "application/vnd.databricks.v1+cell": {
     "cellMetadata": {
      "byteLimit": 2048000,
      "rowLimit": 10000
     },
     "inputWidgets": {},
     "nuid": "163b8b71-b1f6-4dac-b68f-11951e575633",
     "showTitle": false,
     "tableResultSettingsMap": {},
     "title": ""
    }
   },
   "outputs": [
    {
     "output_type": "display_data",
     "data": {
      "text/html": [
       "<style scoped>\n",
       "  .table-result-container {\n",
       "    max-height: 300px;\n",
       "    overflow: auto;\n",
       "  }\n",
       "  table, th, td {\n",
       "    border: 1px solid black;\n",
       "    border-collapse: collapse;\n",
       "  }\n",
       "  th, td {\n",
       "    padding: 5px;\n",
       "  }\n",
       "  th {\n",
       "    text-align: left;\n",
       "  }\n",
       "</style><div class='table-result-container'><table class='table-result'><thead style='background-color: white'><tr><th>col_id</th><th>col_name</th><th>col_exp</th><th>col_gen</th><th>col_dob</th><th>col_company</th><th>col_desig</th><th>col_doj</th><th>col_skills</th><th>col_previous_expected_salary</th></tr></thead><tbody><tr><td>101</td><td>'Agastya'</td><td>1</td><td>M</td><td>1987-01-22</td><td>Infosys</td><td>Developer</td><td>2015-01-21</td><td>'Hadoop,Hadoop,PySpark,Azure'</td><td>'1950000,1600000'</td></tr><tr><td>102</td><td>'Acyuta'</td><td>2</td><td>F</td><td>1987-03-29</td><td>TCS</td><td>Team Lead</td><td>2016-01-21</td><td>'C,C++,Java'</td><td>'1150000,1500000'</td></tr><tr><td>103</td><td>'Anuvrata'</td><td>1</td><td>M</td><td>1987-01-22</td><td>Infosys</td><td>Developer</td><td>2017-01-21</td><td>'Java,Python,Hadoop'</td><td>'1250000,1300000'</td></tr><tr><td>105</td><td>'Chitragandha'</td><td>null</td><td>M</td><td>1987-01-22</td><td>CTS</td><td>Developer</td><td>null</td><td>'C,C++,Java'</td><td>'1200000,1400000'</td></tr><tr><td>106</td><td>'Hritika'</td><td>9</td><td>F</td><td>1987-01-22</td><td>Cisco</td><td>Developer</td><td>2016-01-21</td><td>'C,C++,Java'</td><td>'950000,1300000'</td></tr><tr><td>107</td><td>'Jigyasa'</td><td>12</td><td>M</td><td>1987-01-22</td><td>Infosys</td><td>Team Lead</td><td>2005-01-21</td><td>'Hadoop,PySpark,Kafka'</td><td>'200000,2100000'</td></tr><tr><td>109</td><td>null</td><td>8</td><td>M</td><td>1987-01-22</td><td>null</td><td>Developer</td><td>2008-01-21</td><td>'C,C++,Java'</td><td>'1050000,1100000'</td></tr><tr><td>110</td><td>'Vin'</td><td>null</td><td>T</td><td>1987-01-22</td><td>CTS</td><td>Team Lead</td><td>2020-01-21</td><td>'Hadoop,PySpark,Kafka,Kafka'</td><td>'1550000,1400000'</td></tr></tbody></table></div>"
      ]
     },
     "metadata": {
      "application/vnd.databricks.v1+output": {
       "addedWidgets": {},
       "aggData": [],
       "aggError": "",
       "aggOverflow": false,
       "aggSchema": [],
       "aggSeriesLimitReached": false,
       "aggType": "",
       "arguments": {},
       "columnCustomDisplayInfos": {},
       "data": [
        [
         101,
         "'Agastya'",
         1,
         "M",
         "1987-01-22",
         "Infosys",
         "Developer",
         "2015-01-21",
         "'Hadoop,Hadoop,PySpark,Azure'",
         "'1950000,1600000'"
        ],
        [
         102,
         "'Acyuta'",
         2,
         "F",
         "1987-03-29",
         "TCS",
         "Team Lead",
         "2016-01-21",
         "'C,C++,Java'",
         "'1150000,1500000'"
        ],
        [
         103,
         "'Anuvrata'",
         1,
         "M",
         "1987-01-22",
         "Infosys",
         "Developer",
         "2017-01-21",
         "'Java,Python,Hadoop'",
         "'1250000,1300000'"
        ],
        [
         105,
         "'Chitragandha'",
         null,
         "M",
         "1987-01-22",
         "CTS",
         "Developer",
         null,
         "'C,C++,Java'",
         "'1200000,1400000'"
        ],
        [
         106,
         "'Hritika'",
         9,
         "F",
         "1987-01-22",
         "Cisco",
         "Developer",
         "2016-01-21",
         "'C,C++,Java'",
         "'950000,1300000'"
        ],
        [
         107,
         "'Jigyasa'",
         12,
         "M",
         "1987-01-22",
         "Infosys",
         "Team Lead",
         "2005-01-21",
         "'Hadoop,PySpark,Kafka'",
         "'200000,2100000'"
        ],
        [
         109,
         null,
         8,
         "M",
         "1987-01-22",
         null,
         "Developer",
         "2008-01-21",
         "'C,C++,Java'",
         "'1050000,1100000'"
        ],
        [
         110,
         "'Vin'",
         null,
         "T",
         "1987-01-22",
         "CTS",
         "Team Lead",
         "2020-01-21",
         "'Hadoop,PySpark,Kafka,Kafka'",
         "'1550000,1400000'"
        ]
       ],
       "datasetInfos": [],
       "dbfsResultPath": null,
       "isJsonSchema": true,
       "metadata": {},
       "overflow": false,
       "plotOptions": {
        "customPlotOptions": {},
        "displayType": "table",
        "pivotAggregation": null,
        "pivotColumns": null,
        "xColumns": null,
        "yColumns": null
       },
       "removedWidgets": [],
       "schema": [
        {
         "metadata": "{}",
         "name": "col_id",
         "type": "\"integer\""
        },
        {
         "metadata": "{}",
         "name": "col_name",
         "type": "\"string\""
        },
        {
         "metadata": "{}",
         "name": "col_exp",
         "type": "\"integer\""
        },
        {
         "metadata": "{}",
         "name": "col_gen",
         "type": "\"string\""
        },
        {
         "metadata": "{\"__detected_date_formats\":\"yyyy-M-d\"}",
         "name": "col_dob",
         "type": "\"date\""
        },
        {
         "metadata": "{}",
         "name": "col_company",
         "type": "\"string\""
        },
        {
         "metadata": "{}",
         "name": "col_desig",
         "type": "\"string\""
        },
        {
         "metadata": "{\"__detected_date_formats\":\"d-M-yyyy\"}",
         "name": "col_doj",
         "type": "\"date\""
        },
        {
         "metadata": "{}",
         "name": "col_skills",
         "type": "\"string\""
        },
        {
         "metadata": "{}",
         "name": "col_previous_expected_salary",
         "type": "\"string\""
        }
       ],
       "type": "table"
      }
     },
     "output_type": "display_data"
    }
   ],
   "source": [
    "employee_df.filter(col(\"col_desig\").isin(\"Developer\", \"Team Lead\")).display()"
   ]
  },
  {
   "cell_type": "code",
   "execution_count": 0,
   "metadata": {
    "application/vnd.databricks.v1+cell": {
     "cellMetadata": {
      "byteLimit": 2048000,
      "rowLimit": 10000
     },
     "inputWidgets": {},
     "nuid": "45d6a544-c3b5-41b3-8957-539cd2e42865",
     "showTitle": false,
     "tableResultSettingsMap": {},
     "title": ""
    }
   },
   "outputs": [
    {
     "output_type": "display_data",
     "data": {
      "text/html": [
       "<style scoped>\n",
       "  .table-result-container {\n",
       "    max-height: 300px;\n",
       "    overflow: auto;\n",
       "  }\n",
       "  table, th, td {\n",
       "    border: 1px solid black;\n",
       "    border-collapse: collapse;\n",
       "  }\n",
       "  th, td {\n",
       "    padding: 5px;\n",
       "  }\n",
       "  th {\n",
       "    text-align: left;\n",
       "  }\n",
       "</style><div class='table-result-container'><table class='table-result'><thead style='background-color: white'><tr><th>col_id</th><th>col_name</th><th>col_exp</th><th>col_gen</th><th>col_dob</th><th>col_company</th><th>col_desig</th><th>col_doj</th><th>col_skills</th><th>col_previous_expected_salary</th></tr></thead><tbody><tr><td>null</td><td>'Bhavika'</td><td>6</td><td>F</td><td>1987-01-22</td><td>Infosys</td><td>Team lead</td><td>2015-01-21</td><td>'Hadoop,PySpark,Kafka'</td><td>null</td></tr><tr><td>108</td><td>'Kaveri'</td><td>4</td><td>F</td><td>1987-01-22</td><td>cisco</td><td>R&D Engineer</td><td>2015-01-21</td><td>'C,PySpark,Azure,AWS'</td><td>'3050000,2500000'</td></tr></tbody></table></div>"
      ]
     },
     "metadata": {
      "application/vnd.databricks.v1+output": {
       "addedWidgets": {},
       "aggData": [],
       "aggError": "",
       "aggOverflow": false,
       "aggSchema": [],
       "aggSeriesLimitReached": false,
       "aggType": "",
       "arguments": {},
       "columnCustomDisplayInfos": {},
       "data": [
        [
         null,
         "'Bhavika'",
         6,
         "F",
         "1987-01-22",
         "Infosys",
         "Team lead",
         "2015-01-21",
         "'Hadoop,PySpark,Kafka'",
         null
        ],
        [
         108,
         "'Kaveri'",
         4,
         "F",
         "1987-01-22",
         "cisco",
         "R&D Engineer",
         "2015-01-21",
         "'C,PySpark,Azure,AWS'",
         "'3050000,2500000'"
        ]
       ],
       "datasetInfos": [],
       "dbfsResultPath": null,
       "isJsonSchema": true,
       "metadata": {},
       "overflow": false,
       "plotOptions": {
        "customPlotOptions": {},
        "displayType": "table",
        "pivotAggregation": null,
        "pivotColumns": null,
        "xColumns": null,
        "yColumns": null
       },
       "removedWidgets": [],
       "schema": [
        {
         "metadata": "{}",
         "name": "col_id",
         "type": "\"integer\""
        },
        {
         "metadata": "{}",
         "name": "col_name",
         "type": "\"string\""
        },
        {
         "metadata": "{}",
         "name": "col_exp",
         "type": "\"integer\""
        },
        {
         "metadata": "{}",
         "name": "col_gen",
         "type": "\"string\""
        },
        {
         "metadata": "{\"__detected_date_formats\":\"yyyy-M-d\"}",
         "name": "col_dob",
         "type": "\"date\""
        },
        {
         "metadata": "{}",
         "name": "col_company",
         "type": "\"string\""
        },
        {
         "metadata": "{}",
         "name": "col_desig",
         "type": "\"string\""
        },
        {
         "metadata": "{\"__detected_date_formats\":\"d-M-yyyy\"}",
         "name": "col_doj",
         "type": "\"date\""
        },
        {
         "metadata": "{}",
         "name": "col_skills",
         "type": "\"string\""
        },
        {
         "metadata": "{}",
         "name": "col_previous_expected_salary",
         "type": "\"string\""
        }
       ],
       "type": "table"
      }
     },
     "output_type": "display_data"
    }
   ],
   "source": [
    "employee_df.filter(~col(\"col_desig\").isin(\"Developer\", \"Team Lead\")).display()"
   ]
  },
  {
   "cell_type": "code",
   "execution_count": 0,
   "metadata": {
    "application/vnd.databricks.v1+cell": {
     "cellMetadata": {
      "byteLimit": 2048000,
      "rowLimit": 10000
     },
     "inputWidgets": {},
     "nuid": "f3c1aa40-6c27-4518-8f5f-119fe10bd965",
     "showTitle": false,
     "tableResultSettingsMap": {},
     "title": ""
    }
   },
   "outputs": [
    {
     "output_type": "display_data",
     "data": {
      "text/html": [
       "<style scoped>\n",
       "  .table-result-container {\n",
       "    max-height: 300px;\n",
       "    overflow: auto;\n",
       "  }\n",
       "  table, th, td {\n",
       "    border: 1px solid black;\n",
       "    border-collapse: collapse;\n",
       "  }\n",
       "  th, td {\n",
       "    padding: 5px;\n",
       "  }\n",
       "  th {\n",
       "    text-align: left;\n",
       "  }\n",
       "</style><div class='table-result-container'><table class='table-result'><thead style='background-color: white'><tr><th>col_id</th><th>col_name</th><th>col_exp</th><th>col_gen</th><th>col_dob</th><th>col_company</th><th>col_desig</th><th>col_doj</th><th>col_skills</th><th>col_previous_expected_salary</th><th>is_employeed</th></tr></thead><tbody><tr><td>101</td><td>'Agastya'</td><td>1</td><td>M</td><td>1987-01-22</td><td>Infosys</td><td>Developer</td><td>2015-01-21</td><td>'Hadoop,Hadoop,PySpark,Azure'</td><td>'1950000,1600000'</td><td>Yes</td></tr><tr><td>102</td><td>'Acyuta'</td><td>2</td><td>F</td><td>1987-03-29</td><td>TCS</td><td>Team Lead</td><td>2016-01-21</td><td>'C,C++,Java'</td><td>'1150000,1500000'</td><td>Yes</td></tr><tr><td>103</td><td>'Anuvrata'</td><td>1</td><td>M</td><td>1987-01-22</td><td>Infosys</td><td>Developer</td><td>2017-01-21</td><td>'Java,Python,Hadoop'</td><td>'1250000,1300000'</td><td>Yes</td></tr><tr><td>null</td><td>'Bhavika'</td><td>6</td><td>F</td><td>1987-01-22</td><td>Infosys</td><td>Team lead</td><td>2015-01-21</td><td>'Hadoop,PySpark,Kafka'</td><td>null</td><td>Yes</td></tr><tr><td>105</td><td>'Chitragandha'</td><td>null</td><td>M</td><td>1987-01-22</td><td>CTS</td><td>Developer</td><td>null</td><td>'C,C++,Java'</td><td>'1200000,1400000'</td><td>Yes</td></tr><tr><td>106</td><td>'Hritika'</td><td>9</td><td>F</td><td>1987-01-22</td><td>Cisco</td><td>Developer</td><td>2016-01-21</td><td>'C,C++,Java'</td><td>'950000,1300000'</td><td>Yes</td></tr><tr><td>107</td><td>'Jigyasa'</td><td>12</td><td>M</td><td>1987-01-22</td><td>Infosys</td><td>Team Lead</td><td>2005-01-21</td><td>'Hadoop,PySpark,Kafka'</td><td>'200000,2100000'</td><td>Yes</td></tr><tr><td>108</td><td>'Kaveri'</td><td>4</td><td>F</td><td>1987-01-22</td><td>cisco</td><td>R&D Engineer</td><td>2015-01-21</td><td>'C,PySpark,Azure,AWS'</td><td>'3050000,2500000'</td><td>Yes</td></tr><tr><td>109</td><td>null</td><td>8</td><td>M</td><td>1987-01-22</td><td>null</td><td>Developer</td><td>2008-01-21</td><td>'C,C++,Java'</td><td>'1050000,1100000'</td><td>Yes</td></tr><tr><td>110</td><td>'Vin'</td><td>null</td><td>T</td><td>1987-01-22</td><td>CTS</td><td>Team Lead</td><td>2020-01-21</td><td>'Hadoop,PySpark,Kafka,Kafka'</td><td>'1550000,1400000'</td><td>Yes</td></tr></tbody></table></div>"
      ]
     },
     "metadata": {
      "application/vnd.databricks.v1+output": {
       "addedWidgets": {},
       "aggData": [],
       "aggError": "",
       "aggOverflow": false,
       "aggSchema": [],
       "aggSeriesLimitReached": false,
       "aggType": "",
       "arguments": {},
       "columnCustomDisplayInfos": {},
       "data": [
        [
         101,
         "'Agastya'",
         1,
         "M",
         "1987-01-22",
         "Infosys",
         "Developer",
         "2015-01-21",
         "'Hadoop,Hadoop,PySpark,Azure'",
         "'1950000,1600000'",
         "Yes"
        ],
        [
         102,
         "'Acyuta'",
         2,
         "F",
         "1987-03-29",
         "TCS",
         "Team Lead",
         "2016-01-21",
         "'C,C++,Java'",
         "'1150000,1500000'",
         "Yes"
        ],
        [
         103,
         "'Anuvrata'",
         1,
         "M",
         "1987-01-22",
         "Infosys",
         "Developer",
         "2017-01-21",
         "'Java,Python,Hadoop'",
         "'1250000,1300000'",
         "Yes"
        ],
        [
         null,
         "'Bhavika'",
         6,
         "F",
         "1987-01-22",
         "Infosys",
         "Team lead",
         "2015-01-21",
         "'Hadoop,PySpark,Kafka'",
         null,
         "Yes"
        ],
        [
         105,
         "'Chitragandha'",
         null,
         "M",
         "1987-01-22",
         "CTS",
         "Developer",
         null,
         "'C,C++,Java'",
         "'1200000,1400000'",
         "Yes"
        ],
        [
         106,
         "'Hritika'",
         9,
         "F",
         "1987-01-22",
         "Cisco",
         "Developer",
         "2016-01-21",
         "'C,C++,Java'",
         "'950000,1300000'",
         "Yes"
        ],
        [
         107,
         "'Jigyasa'",
         12,
         "M",
         "1987-01-22",
         "Infosys",
         "Team Lead",
         "2005-01-21",
         "'Hadoop,PySpark,Kafka'",
         "'200000,2100000'",
         "Yes"
        ],
        [
         108,
         "'Kaveri'",
         4,
         "F",
         "1987-01-22",
         "cisco",
         "R&D Engineer",
         "2015-01-21",
         "'C,PySpark,Azure,AWS'",
         "'3050000,2500000'",
         "Yes"
        ],
        [
         109,
         null,
         8,
         "M",
         "1987-01-22",
         null,
         "Developer",
         "2008-01-21",
         "'C,C++,Java'",
         "'1050000,1100000'",
         "Yes"
        ],
        [
         110,
         "'Vin'",
         null,
         "T",
         "1987-01-22",
         "CTS",
         "Team Lead",
         "2020-01-21",
         "'Hadoop,PySpark,Kafka,Kafka'",
         "'1550000,1400000'",
         "Yes"
        ]
       ],
       "datasetInfos": [],
       "dbfsResultPath": null,
       "isJsonSchema": true,
       "metadata": {},
       "overflow": false,
       "plotOptions": {
        "customPlotOptions": {},
        "displayType": "table",
        "pivotAggregation": null,
        "pivotColumns": null,
        "xColumns": null,
        "yColumns": null
       },
       "removedWidgets": [],
       "schema": [
        {
         "metadata": "{}",
         "name": "col_id",
         "type": "\"integer\""
        },
        {
         "metadata": "{}",
         "name": "col_name",
         "type": "\"string\""
        },
        {
         "metadata": "{}",
         "name": "col_exp",
         "type": "\"integer\""
        },
        {
         "metadata": "{}",
         "name": "col_gen",
         "type": "\"string\""
        },
        {
         "metadata": "{\"__detected_date_formats\":\"yyyy-M-d\"}",
         "name": "col_dob",
         "type": "\"date\""
        },
        {
         "metadata": "{}",
         "name": "col_company",
         "type": "\"string\""
        },
        {
         "metadata": "{}",
         "name": "col_desig",
         "type": "\"string\""
        },
        {
         "metadata": "{\"__detected_date_formats\":\"d-M-yyyy\"}",
         "name": "col_doj",
         "type": "\"date\""
        },
        {
         "metadata": "{}",
         "name": "col_skills",
         "type": "\"string\""
        },
        {
         "metadata": "{}",
         "name": "col_previous_expected_salary",
         "type": "\"string\""
        },
        {
         "metadata": "{}",
         "name": "is_employeed",
         "type": "\"string\""
        }
       ],
       "type": "table"
      }
     },
     "output_type": "display_data"
    }
   ],
   "source": [
    "from pyspark.sql.functions import lit\n",
    "employee_df.withColumn(\"is_employeed\", lit(\"Yes\") ).display()"
   ]
  },
  {
   "cell_type": "code",
   "execution_count": 0,
   "metadata": {
    "application/vnd.databricks.v1+cell": {
     "cellMetadata": {
      "byteLimit": 2048000,
      "rowLimit": 10000
     },
     "inputWidgets": {},
     "nuid": "2b5f4330-e951-4d52-aa79-3c9ac12033bb",
     "showTitle": false,
     "tableResultSettingsMap": {},
     "title": ""
    }
   },
   "outputs": [
    {
     "output_type": "display_data",
     "data": {
      "text/html": [
       "<style scoped>\n",
       "  .table-result-container {\n",
       "    max-height: 300px;\n",
       "    overflow: auto;\n",
       "  }\n",
       "  table, th, td {\n",
       "    border: 1px solid black;\n",
       "    border-collapse: collapse;\n",
       "  }\n",
       "  th, td {\n",
       "    padding: 5px;\n",
       "  }\n",
       "  th {\n",
       "    text-align: left;\n",
       "  }\n",
       "</style><div class='table-result-container'><table class='table-result'><thead style='background-color: white'><tr><th>col_desig</th><th>count</th></tr></thead><tbody><tr><td>Developer</td><td>5</td></tr><tr><td>Team lead</td><td>1</td></tr><tr><td>R&D Engineer</td><td>1</td></tr><tr><td>Team Lead</td><td>3</td></tr></tbody></table></div>"
      ]
     },
     "metadata": {
      "application/vnd.databricks.v1+output": {
       "addedWidgets": {},
       "aggData": [],
       "aggError": "",
       "aggOverflow": false,
       "aggSchema": [],
       "aggSeriesLimitReached": false,
       "aggType": "",
       "arguments": {},
       "columnCustomDisplayInfos": {},
       "data": [
        [
         "Developer",
         5
        ],
        [
         "Team lead",
         1
        ],
        [
         "R&D Engineer",
         1
        ],
        [
         "Team Lead",
         3
        ]
       ],
       "datasetInfos": [],
       "dbfsResultPath": null,
       "isJsonSchema": true,
       "metadata": {},
       "overflow": false,
       "plotOptions": {
        "customPlotOptions": {},
        "displayType": "table",
        "pivotAggregation": null,
        "pivotColumns": null,
        "xColumns": null,
        "yColumns": null
       },
       "removedWidgets": [],
       "schema": [
        {
         "metadata": "{}",
         "name": "col_desig",
         "type": "\"string\""
        },
        {
         "metadata": "{}",
         "name": "count",
         "type": "\"long\""
        }
       ],
       "type": "table"
      }
     },
     "output_type": "display_data"
    }
   ],
   "source": [
    "employee_df.groupBy(\"col_desig\").count().display()"
   ]
  },
  {
   "cell_type": "code",
   "execution_count": 0,
   "metadata": {
    "application/vnd.databricks.v1+cell": {
     "cellMetadata": {
      "byteLimit": 2048000,
      "rowLimit": 10000
     },
     "inputWidgets": {},
     "nuid": "7133aeb7-2341-4323-8f7b-5a20074f9aab",
     "showTitle": false,
     "tableResultSettingsMap": {},
     "title": ""
    }
   },
   "outputs": [
    {
     "output_type": "display_data",
     "data": {
      "text/html": [
       "<style scoped>\n",
       "  .table-result-container {\n",
       "    max-height: 300px;\n",
       "    overflow: auto;\n",
       "  }\n",
       "  table, th, td {\n",
       "    border: 1px solid black;\n",
       "    border-collapse: collapse;\n",
       "  }\n",
       "  th, td {\n",
       "    padding: 5px;\n",
       "  }\n",
       "  th {\n",
       "    text-align: left;\n",
       "  }\n",
       "</style><div class='table-result-container'><table class='table-result'><thead style='background-color: white'><tr><th>col_desig</th><th>count(1)</th></tr></thead><tbody><tr><td>Developer</td><td>5</td></tr><tr><td>Team lead</td><td>1</td></tr><tr><td>R&D Engineer</td><td>1</td></tr><tr><td>Team Lead</td><td>3</td></tr></tbody></table></div>"
      ]
     },
     "metadata": {
      "application/vnd.databricks.v1+output": {
       "addedWidgets": {},
       "aggData": [],
       "aggError": "",
       "aggOverflow": false,
       "aggSchema": [],
       "aggSeriesLimitReached": false,
       "aggType": "",
       "arguments": {},
       "columnCustomDisplayInfos": {},
       "data": [
        [
         "Developer",
         5
        ],
        [
         "Team lead",
         1
        ],
        [
         "R&D Engineer",
         1
        ],
        [
         "Team Lead",
         3
        ]
       ],
       "datasetInfos": [],
       "dbfsResultPath": null,
       "isJsonSchema": true,
       "metadata": {},
       "overflow": false,
       "plotOptions": {
        "customPlotOptions": {},
        "displayType": "table",
        "pivotAggregation": null,
        "pivotColumns": null,
        "xColumns": null,
        "yColumns": null
       },
       "removedWidgets": [],
       "schema": [
        {
         "metadata": "{}",
         "name": "col_desig",
         "type": "\"string\""
        },
        {
         "metadata": "{}",
         "name": "count(1)",
         "type": "\"long\""
        }
       ],
       "type": "table"
      }
     },
     "output_type": "display_data"
    }
   ],
   "source": [
    "from pyspark.sql.functions import count\n",
    "employee_df.groupBy(\"col_desig\").agg(count(\"*\")).display()"
   ]
  },
  {
   "cell_type": "code",
   "execution_count": 0,
   "metadata": {
    "application/vnd.databricks.v1+cell": {
     "cellMetadata": {
      "byteLimit": 2048000,
      "rowLimit": 10000
     },
     "inputWidgets": {},
     "nuid": "375b66ed-ecca-434f-b71b-3d7e3ca2a1fd",
     "showTitle": false,
     "tableResultSettingsMap": {},
     "title": ""
    }
   },
   "outputs": [
    {
     "output_type": "display_data",
     "data": {
      "text/html": [
       "<style scoped>\n",
       "  .table-result-container {\n",
       "    max-height: 300px;\n",
       "    overflow: auto;\n",
       "  }\n",
       "  table, th, td {\n",
       "    border: 1px solid black;\n",
       "    border-collapse: collapse;\n",
       "  }\n",
       "  th, td {\n",
       "    padding: 5px;\n",
       "  }\n",
       "  th {\n",
       "    text-align: left;\n",
       "  }\n",
       "</style><div class='table-result-container'><table class='table-result'><thead style='background-color: white'><tr><th>col_desig</th><th>max_experience</th><th>min_experience</th></tr></thead><tbody><tr><td>Developer</td><td>9</td><td>1</td></tr><tr><td>Team lead</td><td>6</td><td>6</td></tr><tr><td>R&D Engineer</td><td>4</td><td>4</td></tr><tr><td>Team Lead</td><td>12</td><td>2</td></tr></tbody></table></div>"
      ]
     },
     "metadata": {
      "application/vnd.databricks.v1+output": {
       "addedWidgets": {},
       "aggData": [],
       "aggError": "",
       "aggOverflow": false,
       "aggSchema": [],
       "aggSeriesLimitReached": false,
       "aggType": "",
       "arguments": {},
       "columnCustomDisplayInfos": {},
       "data": [
        [
         "Developer",
         9,
         1
        ],
        [
         "Team lead",
         6,
         6
        ],
        [
         "R&D Engineer",
         4,
         4
        ],
        [
         "Team Lead",
         12,
         2
        ]
       ],
       "datasetInfos": [],
       "dbfsResultPath": null,
       "isJsonSchema": true,
       "metadata": {},
       "overflow": false,
       "plotOptions": {
        "customPlotOptions": {},
        "displayType": "table",
        "pivotAggregation": null,
        "pivotColumns": null,
        "xColumns": null,
        "yColumns": null
       },
       "removedWidgets": [],
       "schema": [
        {
         "metadata": "{}",
         "name": "col_desig",
         "type": "\"string\""
        },
        {
         "metadata": "{}",
         "name": "max_experience",
         "type": "\"integer\""
        },
        {
         "metadata": "{}",
         "name": "min_experience",
         "type": "\"integer\""
        }
       ],
       "type": "table"
      }
     },
     "output_type": "display_data"
    }
   ],
   "source": [
    "from pyspark.sql.functions import max, min\n",
    "employee_df.groupBy(\"col_desig\").agg(\n",
    "    max(col(\"col_exp\")).alias(\"max_experience\"),\n",
    "    min(col(\"col_exp\")).alias(\"min_experience\")\n",
    "    ).display()"
   ]
  },
  {
   "cell_type": "code",
   "execution_count": 0,
   "metadata": {
    "application/vnd.databricks.v1+cell": {
     "cellMetadata": {},
     "inputWidgets": {},
     "nuid": "0111dc35-d86d-4ee1-9e51-768f78d675a1",
     "showTitle": false,
     "tableResultSettingsMap": {},
     "title": ""
    }
   },
   "outputs": [],
   "source": []
  }
 ],
 "metadata": {
  "application/vnd.databricks.v1+notebook": {
   "computePreferences": null,
   "dashboards": [],
   "environmentMetadata": {
    "base_environment": "",
    "client": "1"
   },
   "language": "python",
   "notebookMetadata": {
    "pythonIndentUnit": 4
   },
   "notebookName": "Exploring Spark SQL",
   "widgets": {}
  }
 },
 "nbformat": 4,
 "nbformat_minor": 0
}
